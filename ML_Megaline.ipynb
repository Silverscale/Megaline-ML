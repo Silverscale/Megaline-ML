{
 "cells": [
  {
   "cell_type": "markdown",
   "id": "9990596e",
   "metadata": {},
   "source": [
    "# Megaline plan recomendator"
   ]
  },
  {
   "cell_type": "markdown",
   "id": "73b1e486",
   "metadata": {},
   "source": [
    "## Contents\n",
    "\n",
    "1. [Introduction](#introduction)\n",
    "2. [Data Loading and Inspection](#data-loading-and-inspection)\n",
    "3. [Model training](#model-training)\n",
    "    1. [Splitting the data into sets](#splitting-the-data-into-sets)\n",
    "    2. [Decision Tree model](#decision-tree-model)\n",
    "    3. [Random Forest model](#random-forest-model)\n",
    "    4. [Logistic Regression model]\n",
    "    5. [Quality check using the test set]\n",
    "    6. [Sanity check]\n",
    "4. [Conclusion]"
   ]
  },
  {
   "cell_type": "markdown",
   "id": "38da9356",
   "metadata": {},
   "source": [
    "## Introduction\n",
    "\n",
    "This is the project for the \"Intro into Machine Learning\" sprint of Tripleten's DA course.\n",
    "\n",
    "We will bw analizing user's data for the mobile carrier Megaline, in order to train a model that could properly recommend to each customer one of Megaline's new plans: Smart or Ultra.\n",
    "\n",
    "The requested minimum accuracy for this model is **0.75**.\n",
    "\n",
    "For this project we'll be using the following:\n",
    "- Python 3.9.5\n",
    "- Pandas 1.2.4\n",
    "- Sklearn 0.24.1\n",
    "\n",
    "Versions were chosen so they match as closely as possible the versions available on the Tripleten servers"
   ]
  },
  {
   "cell_type": "code",
   "execution_count": 3,
   "id": "34e287d6",
   "metadata": {},
   "outputs": [],
   "source": [
    "import pandas as pd\n",
    "from sklearn.linear_model import LogisticRegression\n",
    "from sklearn.ensemble import RandomForestClassifier\n",
    "from sklearn.tree import DecisionTreeClassifier\n",
    "from sklearn.model_selection import train_test_split\n",
    "from sklearn.metrics import accuracy_score"
   ]
  },
  {
   "cell_type": "markdown",
   "id": "09d8d1b6",
   "metadata": {},
   "source": [
    "[Back to Contents](#contents)"
   ]
  },
  {
   "cell_type": "markdown",
   "id": "1a940e60",
   "metadata": {},
   "source": [
    "## Data Loading and Inspection\n",
    "\n",
    "Our data is contained in a single table. According to our instructions, the data is already preprocessed. Let's load it and do a quick check to make sure it's ready for use."
   ]
  },
  {
   "cell_type": "code",
   "execution_count": 4,
   "id": "0ce4b9fb",
   "metadata": {},
   "outputs": [],
   "source": [
    "try:\n",
    "    df = pd.read_csv(\"dataset/users_behavior.csv\")      # Local path\n",
    "except FileNotFoundError:\n",
    "    df = pd.read_csv(\"/datasets/users_behavior.csv\")    # Tripleten server path"
   ]
  },
  {
   "cell_type": "code",
   "execution_count": 5,
   "id": "f0021b73",
   "metadata": {},
   "outputs": [
    {
     "name": "stdout",
     "output_type": "stream",
     "text": [
      "<class 'pandas.core.frame.DataFrame'>\n",
      "RangeIndex: 3214 entries, 0 to 3213\n",
      "Data columns (total 5 columns):\n",
      " #   Column    Non-Null Count  Dtype  \n",
      "---  ------    --------------  -----  \n",
      " 0   calls     3214 non-null   float64\n",
      " 1   minutes   3214 non-null   float64\n",
      " 2   messages  3214 non-null   float64\n",
      " 3   mb_used   3214 non-null   float64\n",
      " 4   is_ultra  3214 non-null   int64  \n",
      "dtypes: float64(4), int64(1)\n",
      "memory usage: 125.7 KB\n"
     ]
    }
   ],
   "source": [
    "df.info()"
   ]
  },
  {
   "cell_type": "code",
   "execution_count": 6,
   "id": "fca32978",
   "metadata": {},
   "outputs": [
    {
     "data": {
      "text/html": [
       "<div>\n",
       "<style scoped>\n",
       "    .dataframe tbody tr th:only-of-type {\n",
       "        vertical-align: middle;\n",
       "    }\n",
       "\n",
       "    .dataframe tbody tr th {\n",
       "        vertical-align: top;\n",
       "    }\n",
       "\n",
       "    .dataframe thead th {\n",
       "        text-align: right;\n",
       "    }\n",
       "</style>\n",
       "<table border=\"1\" class=\"dataframe\">\n",
       "  <thead>\n",
       "    <tr style=\"text-align: right;\">\n",
       "      <th></th>\n",
       "      <th>calls</th>\n",
       "      <th>minutes</th>\n",
       "      <th>messages</th>\n",
       "      <th>mb_used</th>\n",
       "      <th>is_ultra</th>\n",
       "    </tr>\n",
       "  </thead>\n",
       "  <tbody>\n",
       "    <tr>\n",
       "      <th>count</th>\n",
       "      <td>3214.000000</td>\n",
       "      <td>3214.000000</td>\n",
       "      <td>3214.000000</td>\n",
       "      <td>3214.000000</td>\n",
       "      <td>3214.000000</td>\n",
       "    </tr>\n",
       "    <tr>\n",
       "      <th>mean</th>\n",
       "      <td>63.038892</td>\n",
       "      <td>438.208787</td>\n",
       "      <td>38.281269</td>\n",
       "      <td>17207.673836</td>\n",
       "      <td>0.306472</td>\n",
       "    </tr>\n",
       "    <tr>\n",
       "      <th>std</th>\n",
       "      <td>33.236368</td>\n",
       "      <td>234.569872</td>\n",
       "      <td>36.148326</td>\n",
       "      <td>7570.968246</td>\n",
       "      <td>0.461100</td>\n",
       "    </tr>\n",
       "    <tr>\n",
       "      <th>min</th>\n",
       "      <td>0.000000</td>\n",
       "      <td>0.000000</td>\n",
       "      <td>0.000000</td>\n",
       "      <td>0.000000</td>\n",
       "      <td>0.000000</td>\n",
       "    </tr>\n",
       "    <tr>\n",
       "      <th>25%</th>\n",
       "      <td>40.000000</td>\n",
       "      <td>274.575000</td>\n",
       "      <td>9.000000</td>\n",
       "      <td>12491.902500</td>\n",
       "      <td>0.000000</td>\n",
       "    </tr>\n",
       "    <tr>\n",
       "      <th>50%</th>\n",
       "      <td>62.000000</td>\n",
       "      <td>430.600000</td>\n",
       "      <td>30.000000</td>\n",
       "      <td>16943.235000</td>\n",
       "      <td>0.000000</td>\n",
       "    </tr>\n",
       "    <tr>\n",
       "      <th>75%</th>\n",
       "      <td>82.000000</td>\n",
       "      <td>571.927500</td>\n",
       "      <td>57.000000</td>\n",
       "      <td>21424.700000</td>\n",
       "      <td>1.000000</td>\n",
       "    </tr>\n",
       "    <tr>\n",
       "      <th>max</th>\n",
       "      <td>244.000000</td>\n",
       "      <td>1632.060000</td>\n",
       "      <td>224.000000</td>\n",
       "      <td>49745.730000</td>\n",
       "      <td>1.000000</td>\n",
       "    </tr>\n",
       "  </tbody>\n",
       "</table>\n",
       "</div>"
      ],
      "text/plain": [
       "             calls      minutes     messages       mb_used     is_ultra\n",
       "count  3214.000000  3214.000000  3214.000000   3214.000000  3214.000000\n",
       "mean     63.038892   438.208787    38.281269  17207.673836     0.306472\n",
       "std      33.236368   234.569872    36.148326   7570.968246     0.461100\n",
       "min       0.000000     0.000000     0.000000      0.000000     0.000000\n",
       "25%      40.000000   274.575000     9.000000  12491.902500     0.000000\n",
       "50%      62.000000   430.600000    30.000000  16943.235000     0.000000\n",
       "75%      82.000000   571.927500    57.000000  21424.700000     1.000000\n",
       "max     244.000000  1632.060000   224.000000  49745.730000     1.000000"
      ]
     },
     "execution_count": 6,
     "metadata": {},
     "output_type": "execute_result"
    }
   ],
   "source": [
    "df.describe()"
   ]
  },
  {
   "cell_type": "code",
   "execution_count": 7,
   "id": "f4e82417",
   "metadata": {},
   "outputs": [
    {
     "data": {
      "text/plain": [
       "0    2229\n",
       "1     985\n",
       "Name: is_ultra, dtype: int64"
      ]
     },
     "execution_count": 7,
     "metadata": {},
     "output_type": "execute_result"
    }
   ],
   "source": [
    "df['is_ultra'].value_counts()"
   ]
  },
  {
   "cell_type": "markdown",
   "id": "3490a124",
   "metadata": {},
   "source": [
    "There are no missing values, no negatives, and no absurdly large values. `is_ultra` only contains `0` and `1`.\n",
    "\n",
    "We can begin working with the models."
   ]
  },
  {
   "cell_type": "markdown",
   "id": "3dd15d6b",
   "metadata": {},
   "source": [
    "[Back to Contents](#contents)"
   ]
  },
  {
   "cell_type": "markdown",
   "id": "fd7afd6e",
   "metadata": {},
   "source": [
    "## Model Training"
   ]
  },
  {
   "cell_type": "markdown",
   "id": "db775ef8",
   "metadata": {},
   "source": [
    "### Splitting the data into sets"
   ]
  },
  {
   "cell_type": "markdown",
   "id": "eb72628f",
   "metadata": {},
   "source": [
    "We need to devide our dataset into three sets:\n",
    "\n",
    "- Training set: this will be used to train the model\n",
    "- Validation set: we'll use this set to check the quality of different models, and try to improve them as we adjust hyperparameters.\n",
    "- Test set: this will be the final test for the model, data that has never seen before. "
   ]
  },
  {
   "cell_type": "markdown",
   "id": "15ae1f08",
   "metadata": {},
   "source": [
    "We'll distribute the data as follows: \n",
    "- 60% for the training set\n",
    "- 20% for the validation set\n",
    "- 20% for the test set"
   ]
  },
  {
   "cell_type": "code",
   "execution_count": 12,
   "id": "16996617",
   "metadata": {},
   "outputs": [],
   "source": [
    "# First take 20% of the data and save it as the test. df_temp has the other 80%\n",
    "df_temp, df_test = train_test_split(df, test_size=0.2, random_state=12345)\n",
    "# To make the validation set the same size as the test set, we'll take 25% from the temp,\n",
    "# since it only has 80% of the original data. 0.8 * 0.25 = 0.2\n",
    "df_train, df_valid = train_test_split(df_temp, test_size=0.25, random_state=12345)"
   ]
  },
  {
   "cell_type": "code",
   "execution_count": 13,
   "id": "445ed783",
   "metadata": {},
   "outputs": [],
   "source": [
    "features_train = df_train.drop(columns='is_ultra')\n",
    "target_train = df_train['is_ultra']\n",
    "\n",
    "features_valid = df_valid.drop(columns='is_ultra')\n",
    "target_valid = df_valid['is_ultra']\n",
    "\n",
    "features_test = df_test.drop(columns='is_ultra')\n",
    "target_test = df_test['is_ultra']"
   ]
  },
  {
   "cell_type": "markdown",
   "id": "6a893657",
   "metadata": {},
   "source": [
    "The sets are ready, we can begin training models."
   ]
  },
  {
   "cell_type": "markdown",
   "id": "55858d0c",
   "metadata": {},
   "source": [
    "[Back to Contents](#contents)"
   ]
  },
  {
   "cell_type": "markdown",
   "id": "d136ad6e",
   "metadata": {},
   "source": [
    "### Decision Tree model"
   ]
  },
  {
   "cell_type": "markdown",
   "id": "d2868bf9",
   "metadata": {},
   "source": [
    "A decision tree works quite quickly, but with low accuracy. Let's see how it fares in our case."
   ]
  },
  {
   "cell_type": "code",
   "execution_count": 54,
   "id": "625dda9a",
   "metadata": {},
   "outputs": [
    {
     "name": "stdout",
     "output_type": "stream",
     "text": [
      "\n",
      "The best results are found at depth of 10, max features 1, min leaves 9, and the accuracy is 0.8009331259720062\n"
     ]
    }
   ],
   "source": [
    "best_tree = None\n",
    "best_accuracy = 0\n",
    "best_depth = 0\n",
    "best_max_features = 0\n",
    "best_leaves = 0\n",
    "\n",
    "max_depth_to_test = 20\n",
    "max_features_to_test = 4\n",
    "max_leaf_samples_to_test = 10\n",
    "\n",
    "for depth in range(1, max_depth_to_test + 1):\n",
    "    for features in range(1, max_features_to_test + 1):\n",
    "        for leaves in range(1, max_leaf_samples_to_test + 1):\n",
    "            model = DecisionTreeClassifier(\n",
    "                max_depth=depth,\n",
    "                min_samples_leaf=leaves,\n",
    "                max_features=features,\n",
    "                random_state=12345)\n",
    "\n",
    "            model.fit(features_train, target_train)\n",
    "            accuracy = model.score(features_valid, target_valid)\n",
    "\n",
    "            if accuracy > best_accuracy:\n",
    "                best_accuracy = accuracy\n",
    "                best_tree = model\n",
    "                best_depth = depth\n",
    "                best_max_features=features\n",
    "                best_leaves = leaves\n",
    "\n",
    "\n",
    "print(f'\\nThe best results are found at depth of {best_depth}, max features {best_max_features}, min leaves {best_leaves}, and the accuracy is {best_accuracy}')"
   ]
  },
  {
   "cell_type": "markdown",
   "id": "87b2e5ed",
   "metadata": {},
   "source": [
    "We managed to get a Decision tree with an accuracy score of 0.8. The hyperparameters used are: \n",
    "- max_depth = 10\n",
    "- max_features = 1\n",
    "- min_sample_leaves = 9\n",
    "\n",
    "It's quite promising. But we still need to see how it would perform against the test set."
   ]
  },
  {
   "cell_type": "markdown",
   "id": "756afd23",
   "metadata": {},
   "source": [
    "[Back to Contents](#contents)"
   ]
  },
  {
   "cell_type": "markdown",
   "id": "6184b81e",
   "metadata": {},
   "source": [
    "### Random Forest model"
   ]
  },
  {
   "cell_type": "markdown",
   "id": "d9e8ce21",
   "metadata": {},
   "source": []
  }
 ],
 "metadata": {
  "kernelspec": {
   "display_name": "Python 3 (ipykernel)",
   "language": "python",
   "name": "python3"
  },
  "language_info": {
   "codemirror_mode": {
    "name": "ipython",
    "version": 3
   },
   "file_extension": ".py",
   "mimetype": "text/x-python",
   "name": "python",
   "nbconvert_exporter": "python",
   "pygments_lexer": "ipython3",
   "version": "3.9.5"
  }
 },
 "nbformat": 4,
 "nbformat_minor": 5
}
