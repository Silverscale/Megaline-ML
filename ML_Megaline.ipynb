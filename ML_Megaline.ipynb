{
 "cells": [
  {
   "cell_type": "markdown",
   "id": "9990596e",
   "metadata": {},
   "source": [
    "# Megaline plan recomendator"
   ]
  },
  {
   "cell_type": "markdown",
   "id": "73b1e486",
   "metadata": {},
   "source": [
    "Contents <a name=\"back\"></a>\n",
    "\n",
    "1. [Introduction](#introduction)\n",
    "2. [Data Loading and Inspection]\n",
    "3. [Model training]\n",
    "    1. [Splitting the data into sets]\n",
    "    2. [Tree model]\n",
    "    3. [Forest model]\n",
    "    4. [Logistic Regression model]\n",
    "    5. [Quality check using the test set]\n",
    "    6. [Sanity check]\n",
    "4. [Conclusion]"
   ]
  },
  {
   "cell_type": "code",
   "execution_count": null,
   "id": "38da9356",
   "metadata": {},
   "outputs": [],
   "source": []
  },
  {
   "cell_type": "code",
   "execution_count": null,
   "id": "34e287d6",
   "metadata": {},
   "outputs": [],
   "source": []
  }
 ],
 "metadata": {
  "kernelspec": {
   "display_name": "Python 3 (ipykernel)",
   "language": "python",
   "name": "python3"
  },
  "language_info": {
   "codemirror_mode": {
    "name": "ipython",
    "version": 3
   },
   "file_extension": ".py",
   "mimetype": "text/x-python",
   "name": "python",
   "nbconvert_exporter": "python",
   "pygments_lexer": "ipython3",
   "version": "3.9.5"
  }
 },
 "nbformat": 4,
 "nbformat_minor": 5
}
