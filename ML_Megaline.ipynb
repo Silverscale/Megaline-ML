{
 "cells": [
  {
   "cell_type": "markdown",
   "id": "9990596e",
   "metadata": {},
   "source": [
    "# Megaline plan recomendator"
   ]
  },
  {
   "cell_type": "markdown",
   "id": "73b1e486",
   "metadata": {},
   "source": [
    "## Contents\n",
    "\n",
    "1. [Introduction](#introduction)\n",
    "2. [Data Loading and Inspection]\n",
    "3. [Model training]\n",
    "    1. [Splitting the data into sets]\n",
    "    2. [Tree model]\n",
    "    3. [Forest model]\n",
    "    4. [Logistic Regression model]\n",
    "    5. [Quality check using the test set]\n",
    "    6. [Sanity check]\n",
    "4. [Conclusion]"
   ]
  },
  {
   "cell_type": "markdown",
   "id": "38da9356",
   "metadata": {},
   "source": [
    "## Introduction\n",
    "\n",
    "This is the project for the \"Intro into Machine Learning\" sprint of Tripleten's DA course.\n",
    "\n",
    "We will bw analizing user's data for the mobile carrier Megaline, in order to train a model that could properly recommend to each customer one of Megaline's new plans: Smart or Ultra.\n",
    "\n",
    "The requested minimum accuracy for this model is **0.75**.\n",
    "\n",
    "For this project we'll be using the following:\n",
    "- Python 3.9.5\n",
    "- Pandas 1.2.4\n",
    "- Sklearn 0.24.1\n",
    "\n",
    "Versions were chosen so they match as closely as possible the versions available on the Tripleten servers"
   ]
  },
  {
   "cell_type": "code",
   "execution_count": 3,
   "id": "34e287d6",
   "metadata": {},
   "outputs": [],
   "source": [
    "import pandas as pd\n",
    "from sklearn.linear_model import LogisticRegression\n",
    "from sklearn.ensemble import RandomForestClassifier\n",
    "from sklearn.tree import DecisionTreeClassifier\n",
    "from sklearn.model_selection import train_test_split\n",
    "from sklearn.metrics import accuracy_score"
   ]
  },
  {
   "cell_type": "markdown",
   "id": "09d8d1b6",
   "metadata": {},
   "source": [
    "[Back to Contents](#contents)"
   ]
  },
  {
   "cell_type": "markdown",
   "id": "1a940e60",
   "metadata": {},
   "source": []
  }
 ],
 "metadata": {
  "kernelspec": {
   "display_name": "Python 3 (ipykernel)",
   "language": "python",
   "name": "python3"
  },
  "language_info": {
   "codemirror_mode": {
    "name": "ipython",
    "version": 3
   },
   "file_extension": ".py",
   "mimetype": "text/x-python",
   "name": "python",
   "nbconvert_exporter": "python",
   "pygments_lexer": "ipython3",
   "version": "3.9.5"
  }
 },
 "nbformat": 4,
 "nbformat_minor": 5
}
